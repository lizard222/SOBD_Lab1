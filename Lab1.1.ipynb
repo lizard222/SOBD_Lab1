{
 "cells": [
  {
   "cell_type": "markdown",
   "id": "ade16fd6-0c8e-480f-894b-eeea5d4e9dd1",
   "metadata": {},
   "source": [
    "# Лабораторная работа № 1\n",
    "## Выполнение разведочного анализа больших данных с использованием фреймворка Apache Spark"
   ]
  },
  {
   "cell_type": "markdown",
   "id": "48793bd2-e38d-4afb-b60c-0165898cb89f",
   "metadata": {},
   "source": [
    "## Часть 1\n",
    "В данной части работы рассмотрены:\n",
    "\n",
    "* загрузка данных из HDFS;\n",
    "* базовые преобразования данных;\n",
    "* загрузка преобразованных данных в таблицу Apache Airflow.low."
   ]
  },
  {
   "cell_type": "markdown",
   "id": "f1412233-8c57-47ab-a0ce-c2fe354a7aa8",
   "metadata": {},
   "source": [
    "Подключим необходимые библиотеки."
   ]
  },
  {
   "cell_type": "code",
   "execution_count": 162,
   "id": "a48b209c-629f-4807-9fd8-a873ba4c77f9",
   "metadata": {},
   "outputs": [],
   "source": [
    "import os\n",
    "from pyspark.sql import SparkSession, DataFrame\n",
    "from pyspark import SparkConf\n",
    "from pyspark.sql.functions import (\n",
    "    regexp_replace,\n",
    "    regexp_extract_all,\n",
    "    col,\n",
    "    lit,\n",
    "    to_date,\n",
    "    when\n",
    ")"
   ]
  },
  {
   "cell_type": "markdown",
   "id": "f77dbe02-77c6-4305-ab88-e3593571e7d0",
   "metadata": {},
   "source": [
    "Сформируем объект конфигурации для Apache Spark, указав необходимые параметры."
   ]
  },
  {
   "cell_type": "code",
   "execution_count": 163,
   "id": "1b43590b-0418-422c-88e3-a76f191bf571",
   "metadata": {},
   "outputs": [],
   "source": [
    "def create_spark_configuration() -> SparkConf:\n",
    "    \"\"\"\n",
    "    Создает и конфигурирует экземпляр SparkConf для приложения Spark.\n",
    "    Локальный режим с доступом к HDFS и Iceberg.\n",
    "    \"\"\"\n",
    "    user_name = \"jovyan\"\n",
    "    \n",
    "    conf = SparkConf()\n",
    "    conf.setAppName(\"lab 1 Movies Analysis\")\n",
    "    conf.setMaster(\"local[*]\")  # Локальный режим\n",
    "    conf.set(\"spark.sql.adaptive.enabled\", \"true\")\n",
    "    conf.set(\"spark.executor.memory\", \"6g\")\n",
    "    conf.set(\"spark.executor.cores\", \"6\")\n",
    "    conf.set(\"spark.executor.instances\", \"1\")\n",
    "    conf.set(\"spark.driver.memory\", \"4g\")\n",
    "    conf.set(\"spark.driver.cores\", \"1\")\n",
    "   \n",
    "    conf.set(\"spark.sql.legacy.timeParserPolicy\", \"LEGACY\")\n",
    "    conf.set(\"spark.sql.parquet.datetimeRebaseModeInWrite\", \"LEGACY\")  # Для старых дат\n",
    "    conf.set(\"spark.sql.parquet.datetimeRebaseModeInRead\", \"LEGACY\")   # Для чтения старых дат\n",
    "    conf.set(\"spark.sql.parquet.int96RebaseModeInWrite\", \"LEGACY\")     # Для timestamp\n",
    "    conf.set(\"spark.sql.parquet.int96RebaseModeInRead\", \"LEGACY\")      # Для чтения timestamp\n",
    "    \n",
    "    # Конфигурация для работы с HDFS\n",
    "    conf.set(\"spark.hadoop.fs.defaultFS\", \"hdfs://hadoop-namenode:9820\")\n",
    "    conf.set(\"spark.hadoop.dfs.client.use.datanode.hostname\", \"true\")\n",
    "    \n",
    "    return conf"
   ]
  },
  {
   "cell_type": "markdown",
   "id": "fb197036-fed1-4a95-a93c-e7a213c56e58",
   "metadata": {},
   "source": [
    "Создаём сам объект конфигурации."
   ]
  },
  {
   "cell_type": "code",
   "execution_count": 164,
   "id": "92c96d31-29c3-4153-b028-8aea7a15abf4",
   "metadata": {},
   "outputs": [],
   "source": [
    "conf = create_spark_configuration()"
   ]
  },
  {
   "cell_type": "markdown",
   "id": "5cd02a7d-a23d-4693-b0cb-0db08ae35e93",
   "metadata": {},
   "source": [
    "Создаём и выводим на экран сессию Apache Spark."
   ]
  },
  {
   "cell_type": "code",
   "execution_count": 165,
   "id": "7d510e42-8d31-4b1c-bc9c-ba1cf7ef9b2f",
   "metadata": {},
   "outputs": [
    {
     "data": {
      "text/html": [
       "\n",
       "            <div>\n",
       "                <p><b>SparkSession - in-memory</b></p>\n",
       "                \n",
       "        <div>\n",
       "            <p><b>SparkContext</b></p>\n",
       "\n",
       "            <p><a href=\"http://ddbf47bf630e:4040\">Spark UI</a></p>\n",
       "\n",
       "            <dl>\n",
       "              <dt>Version</dt>\n",
       "                <dd><code>v3.5.0</code></dd>\n",
       "              <dt>Master</dt>\n",
       "                <dd><code>local[*]</code></dd>\n",
       "              <dt>AppName</dt>\n",
       "                <dd><code>lab 1 Movies Analysis</code></dd>\n",
       "            </dl>\n",
       "        </div>\n",
       "        \n",
       "            </div>\n",
       "        "
      ],
      "text/plain": [
       "<pyspark.sql.session.SparkSession at 0x706a3a579910>"
      ]
     },
     "execution_count": 165,
     "metadata": {},
     "output_type": "execute_result"
    }
   ],
   "source": [
    "spark = SparkSession.builder.config(conf=conf).getOrCreate()\n",
    "spark"
   ]
  },
  {
   "cell_type": "markdown",
   "id": "4ba63e3a-60a0-43a7-a870-73196c49e873",
   "metadata": {},
   "source": [
    "Для исследования будем использовать датасет `\"Movies_and_TV.json\"`, расположенный на платформе Kaggle по адресу https://jmcauley.ucsd.edu/data/amazon_v2/index.html\n",
    "\n",
    "Датасет включает в себя информацию о рецензиях на фильмы и сериалы от компании Amazon.\n",
    "\n",
    "Данный датасет уже загружен в `HDFS` по адресу: `hdfs://hadoop-namenode:9820/data/Movies_and_TV.csv`\r\n",
    "\r\n",
    "Указываем путь `в HD`FS для файла с данными."
   ]
  },
  {
   "cell_type": "code",
   "execution_count": 166,
   "id": "afaaca16-7180-4aa5-8b69-0c233acc0c38",
   "metadata": {},
   "outputs": [],
   "source": [
    "path = \"hdfs://hadoop-namenode:9820/data/Movies_and_TV.csv\""
   ]
  },
  {
   "cell_type": "markdown",
   "id": "1655d08c-229c-4f11-aed0-2da9dca4f781",
   "metadata": {},
   "source": [
    "Заполняем датафрейм данными из файла"
   ]
  },
  {
   "cell_type": "code",
   "execution_count": 167,
   "id": "e2c75609-cc8c-4886-8fd7-6ddd1792160e",
   "metadata": {},
   "outputs": [],
   "source": [
    "df = (spark.read.format(\"csv\")\n",
    "      .option(\"header\", \"true\")\n",
    "      .load(path)\n",
    ")"
   ]
  },
  {
   "cell_type": "markdown",
   "id": "7db1eda6-c4b7-4e58-a17c-31b973a1dc59",
   "metadata": {},
   "source": [
    "Выводим фрагмент датафрейма на экран."
   ]
  },
  {
   "cell_type": "code",
   "execution_count": 168,
   "id": "8bbb080b-4525-4014-aaa6-a6d028700d39",
   "metadata": {},
   "outputs": [
    {
     "name": "stdout",
     "output_type": "stream",
     "text": [
      "Первые 10 строк датасета:\n",
      "+----------+-----+-------+--------------------+-----------+--------------+-------------+------------+-------------+------------+-----------+--------------------+--------------+--------+----+\n",
      "|      asin|image|overall|          reviewText| reviewTime|    reviewerID| reviewerName|style_Color:|style_Format:|style_Shape:|style_Size:|             summary|unixReviewTime|verified|vote|\n",
      "+----------+-----+-------+--------------------+-----------+--------------+-------------+------------+-------------+------------+-----------+--------------------+--------------+--------+----+\n",
      "|0001527665| NULL|    5.0|really happy they...|03 11, 2013|A3478QRKQDOPQ2|        jacki|        NULL|     VHS Tape|        NULL|       NULL|               great|    1362960000|    True|NULL|\n",
      "|0001527665| NULL|    5.0|Having lived in W...|02 18, 2013|A2VHSG6TZHU1OB|        Ken P|        NULL| Amazon Video|        NULL|       NULL|Realistic and Acc...|    1361145600|    True|   3|\n",
      "|0001527665| NULL|    5.0|Excellent look in...|01 17, 2013|A23EJWOW1TLENE|Reina Berumen|        NULL| Amazon Video|        NULL|       NULL|         Peace Child|    1358380800|   False|NULL|\n",
      "|0001527665| NULL|    5.0|\"More than anythi...|01 10, 2013|A1KM9FNEJ8Q171|      N Coyle|        NULL| Amazon Video|        NULL|       NULL|Culturally releva...|    1357776000|    True|NULL|\n",
      "|0001527665| NULL|    4.0|This is a great m...|12 26, 2012|A38LY2SSHVHRYB| Jodie Vesely|        NULL| Amazon Video|        NULL|       NULL|Good Movie! Great...|    1356480000|    True|NULL|\n",
      "|0001527665| NULL|    5.0|This movie was in...|11 16, 2012| AHTYUW2H1276L|  lilsistah21|        NULL| Amazon Video|        NULL|       NULL|           Great....|    1353024000|    True|   3|\n",
      "|0001527665| NULL|    5.0|This is a fascina...|07 15, 2012|A3M3HCZLXW0YLF|        Carla|        NULL| Amazon Video|        NULL|       NULL|A remarkable true...|    1342310400|    True|   4|\n",
      "|0001527665| NULL|    1.0|This DVD appears ...| 09 3, 2010|A1OMHX76O2NC6V|Richard Ellis|        NULL| Amazon Video|        NULL|       NULL|     Peace Child DVD|    1283472000|    True|NULL|\n",
      "|0001527665| NULL|    1.0|This movie is not...| 05 7, 2010|A3OBOZ41IK6O1M|         Adam|        NULL| Amazon Video|        NULL|       NULL|      Not in English|    1273190400|    True|NULL|\n",
      "|0005089549| NULL|    5.0|So sorry I didn't...| 11 9, 2012|A2M1CU2IRZG0K9|        Terri|        NULL|     VHS Tape|        NULL|       NULL|            Amazing!|    1352419200|    True|NULL|\n",
      "+----------+-----+-------+--------------------+-----------+--------------+-------------+------------+-------------+------------+-----------+--------------------+--------------+--------+----+\n",
      "only showing top 10 rows\n",
      "\n"
     ]
    }
   ],
   "source": [
    "print(\"Первые 10 строк датасета:\")\n",
    "df.show(10)"
   ]
  },
  {
   "cell_type": "markdown",
   "id": "1f798e6f-3def-4ed2-bb39-4050f6cb60a5",
   "metadata": {},
   "source": [
    "Очевидно, что в целях сохранения ясности изложения и сокращения расчетного времени имеет смысл рассматривать не все солбцы датасета. Оставим следующие колонки, удалив остальные:\n",
    "\n",
    "| Название столбца  | Расшифровка |\n",
    "| ------------- | ------------- |\n",
    "| asin | ID товара  |\n",
    "|reviewerID  |ID рецензента  |\n",
    "|reviewerName  |Имя рецензента  |\n",
    "|reviewText  |Текст отзыва  |\n",
    "|overall  |Общая оценка  |\n",
    "|summary  |Краткое описание  |\n",
    "|unixReviewTime  |Время отзыва в Unix-времени  \n",
    "| reviewTime | Время отзыва ||"
   ]
  },
  {
   "cell_type": "code",
   "execution_count": 169,
   "id": "7e8e6152-5ece-4add-a2e6-f86b49e1eb08",
   "metadata": {},
   "outputs": [],
   "source": [
    "selected_columns = [\n",
    "    \"asin\",           \n",
    "    \"reviewerID\",       \n",
    "    \"reviewerName\",        \n",
    "    \"reviewText\",     \n",
    "    \"overall\",        \n",
    "    \"summary\",        \n",
    "    \"unixReviewTime\", \n",
    "    \"reviewTime\"  \n",
    "]\n",
    "\n",
    "df = df.select(*selected_columns)"
   ]
  },
  {
   "cell_type": "code",
   "execution_count": 170,
   "id": "dd8d20ae-feb2-4385-a5c0-5bbdcd127239",
   "metadata": {},
   "outputs": [
    {
     "name": "stdout",
     "output_type": "stream",
     "text": [
      "+----------+--------------+-------------+--------------------+-------+--------------------+--------------+-----------+\n",
      "|      asin|    reviewerID| reviewerName|          reviewText|overall|             summary|unixReviewTime| reviewTime|\n",
      "+----------+--------------+-------------+--------------------+-------+--------------------+--------------+-----------+\n",
      "|0001527665|A3478QRKQDOPQ2|        jacki|really happy they...|    5.0|               great|    1362960000|03 11, 2013|\n",
      "|0001527665|A2VHSG6TZHU1OB|        Ken P|Having lived in W...|    5.0|Realistic and Acc...|    1361145600|02 18, 2013|\n",
      "|0001527665|A23EJWOW1TLENE|Reina Berumen|Excellent look in...|    5.0|         Peace Child|    1358380800|01 17, 2013|\n",
      "|0001527665|A1KM9FNEJ8Q171|      N Coyle|\"More than anythi...|    5.0|Culturally releva...|    1357776000|01 10, 2013|\n",
      "|0001527665|A38LY2SSHVHRYB| Jodie Vesely|This is a great m...|    4.0|Good Movie! Great...|    1356480000|12 26, 2012|\n",
      "|0001527665| AHTYUW2H1276L|  lilsistah21|This movie was in...|    5.0|           Great....|    1353024000|11 16, 2012|\n",
      "|0001527665|A3M3HCZLXW0YLF|        Carla|This is a fascina...|    5.0|A remarkable true...|    1342310400|07 15, 2012|\n",
      "|0001527665|A1OMHX76O2NC6V|Richard Ellis|This DVD appears ...|    1.0|     Peace Child DVD|    1283472000| 09 3, 2010|\n",
      "|0001527665|A3OBOZ41IK6O1M|         Adam|This movie is not...|    1.0|      Not in English|    1273190400| 05 7, 2010|\n",
      "|0005089549|A2M1CU2IRZG0K9|        Terri|So sorry I didn't...|    5.0|            Amazing!|    1352419200| 11 9, 2012|\n",
      "+----------+--------------+-------------+--------------------+-------+--------------------+--------------+-----------+\n",
      "only showing top 10 rows\n",
      "\n"
     ]
    }
   ],
   "source": [
    "df.show(10)"
   ]
  },
  {
   "cell_type": "markdown",
   "id": "de01204c-f315-4881-9849-01d7cac63a2f",
   "metadata": {},
   "source": [
    "Выведем на экран метаданные датасета."
   ]
  },
  {
   "cell_type": "code",
   "execution_count": 171,
   "id": "8ca29800-2582-4896-a143-e1095bce827a",
   "metadata": {},
   "outputs": [
    {
     "name": "stdout",
     "output_type": "stream",
     "text": [
      "root\n",
      " |-- asin: string (nullable = true)\n",
      " |-- reviewerID: string (nullable = true)\n",
      " |-- reviewerName: string (nullable = true)\n",
      " |-- reviewText: string (nullable = true)\n",
      " |-- overall: string (nullable = true)\n",
      " |-- summary: string (nullable = true)\n",
      " |-- unixReviewTime: string (nullable = true)\n",
      " |-- reviewTime: string (nullable = true)\n",
      "\n"
     ]
    }
   ],
   "source": [
    "df.printSchema()"
   ]
  },
  {
   "cell_type": "markdown",
   "id": "abdf4bf9-e660-412b-acdd-69744e02b46e",
   "metadata": {},
   "source": [
    "Видно, что все столбцы датасета содержат строковый тип данных, что не соответствует ожиданиям. Выполним преобразования типов данных некоторых столбцов."
   ]
  },
  {
   "cell_type": "code",
   "execution_count": 172,
   "id": "5dbc938c-d3e0-42cd-8501-96f3046e7622",
   "metadata": {},
   "outputs": [],
   "source": [
    "def transform_dataframe(data: DataFrame) -> DataFrame:\n",
    "    \"\"\"\n",
    "    Преобразует столбцы DataFrame в указанные типы данных.\n",
    "    \"\"\"\n",
    "    # Числовые колонки\n",
    "    data = data.withColumn(\"overall\", col(\"overall\").cast(\"Float\"))\n",
    "    \n",
    "    # Временные метки\n",
    "    data = data.withColumn(\"unixReviewTime\", col(\"unixReviewTime\").cast(\"Integer\"))\n",
    "\n",
    "    # Преобразуем reviewTime из \"03 11, 2013\" в Date с обработкой однозначных чисел\n",
    "    data = data.withColumn(\n",
    "        \"reviewTime_clean\",\n",
    "        # Сначала нормализуем формат: добавляем ведущие нули к однозначным числам\n",
    "        regexp_replace(\n",
    "            regexp_replace(col(\"reviewTime\"), r\"\\b(\\d)\\b\", \"0$1\"),  # 3 -> 03\n",
    "            r\"(\\d{2}) (\\d{2}), (\\d{4})\", \"$2/$1/$3\"  # 03 11, 2013 -> 11/03/2013\n",
    "        )\n",
    "    )\n",
    "    \n",
    "    # Преобразуем в дату\n",
    "    data = data.withColumn(\n",
    "        \"reviewTime_date\",\n",
    "        to_date(col(\"reviewTime_clean\"), \"MM/dd/yyyy\")\n",
    "    )\n",
    "    \n",
    "    \n",
    "    # Удаляем временные колонки и переименовываем\n",
    "    data = data.drop(\"reviewTime\", \"reviewTime_clean\").withColumnRenamed(\"reviewTime_date\", \"reviewTime\")\n",
    "    \n",
    "    return data"
   ]
  },
  {
   "cell_type": "code",
   "execution_count": 173,
   "id": "d752add1-5190-4e93-9955-50502376c7da",
   "metadata": {},
   "outputs": [],
   "source": [
    "df = transform_dataframe(df)"
   ]
  },
  {
   "cell_type": "code",
   "execution_count": 174,
   "id": "084eaf14-0319-41c8-9de6-2ca9fe064876",
   "metadata": {},
   "outputs": [
    {
     "name": "stdout",
     "output_type": "stream",
     "text": [
      "После преобразований:\n",
      "+----------+--------------+-------------+--------------------+-------+--------------------+--------------+----------+\n",
      "|      asin|    reviewerID| reviewerName|          reviewText|overall|             summary|unixReviewTime|reviewTime|\n",
      "+----------+--------------+-------------+--------------------+-------+--------------------+--------------+----------+\n",
      "|0001527665|A3478QRKQDOPQ2|        jacki|really happy they...|    5.0|               great|    1362960000|2013-11-03|\n",
      "|0001527665|A2VHSG6TZHU1OB|        Ken P|Having lived in W...|    5.0|Realistic and Acc...|    1361145600|      NULL|\n",
      "|0001527665|A23EJWOW1TLENE|Reina Berumen|Excellent look in...|    5.0|         Peace Child|    1358380800|      NULL|\n",
      "|0001527665|A1KM9FNEJ8Q171|      N Coyle|\"More than anythi...|    5.0|Culturally releva...|    1357776000|2013-10-01|\n",
      "|0001527665|A38LY2SSHVHRYB| Jodie Vesely|This is a great m...|    4.0|Good Movie! Great...|    1356480000|      NULL|\n",
      "|0001527665| AHTYUW2H1276L|  lilsistah21|This movie was in...|    5.0|           Great....|    1353024000|      NULL|\n",
      "|0001527665|A3M3HCZLXW0YLF|        Carla|This is a fascina...|    5.0|A remarkable true...|    1342310400|      NULL|\n",
      "|0001527665|A1OMHX76O2NC6V|Richard Ellis|This DVD appears ...|    1.0|     Peace Child DVD|    1283472000|2010-03-09|\n",
      "|0001527665|A3OBOZ41IK6O1M|         Adam|This movie is not...|    1.0|      Not in English|    1273190400|2010-07-05|\n",
      "|0005089549|A2M1CU2IRZG0K9|        Terri|So sorry I didn't...|    5.0|            Amazing!|    1352419200|2012-09-11|\n",
      "+----------+--------------+-------------+--------------------+-------+--------------------+--------------+----------+\n",
      "only showing top 10 rows\n",
      "\n"
     ]
    }
   ],
   "source": [
    "print(\"После преобразований:\")\n",
    "df.show(10)"
   ]
  },
  {
   "cell_type": "code",
   "execution_count": 175,
   "id": "5865b81e-4cd0-4d57-a921-f9cdb2234f80",
   "metadata": {},
   "outputs": [
    {
     "name": "stdout",
     "output_type": "stream",
     "text": [
      "root\n",
      " |-- asin: string (nullable = true)\n",
      " |-- reviewerID: string (nullable = true)\n",
      " |-- reviewerName: string (nullable = true)\n",
      " |-- reviewText: string (nullable = true)\n",
      " |-- overall: float (nullable = true)\n",
      " |-- summary: string (nullable = true)\n",
      " |-- unixReviewTime: integer (nullable = true)\n",
      " |-- reviewTime: date (nullable = true)\n",
      "\n"
     ]
    }
   ],
   "source": [
    "df.printSchema()"
   ]
  },
  {
   "cell_type": "markdown",
   "id": "26d88a50-6f0b-4d56-b907-54a4df9e402a",
   "metadata": {},
   "source": [
    "Видно, что теперь столбцы датафрейма содержат значения корректных типов.\n",
    "\n",
    "Сохраненим DataFrame в Parquet форматх."
   ]
  },
  {
   "cell_type": "markdown",
   "id": "147257ee-74b1-4148-aed3-44fd48c0a515",
   "metadata": {},
   "source": [
    "## Запись данных в Parquet"
   ]
  },
  {
   "cell_type": "markdown",
   "id": "58c03d3e-1eb1-4b19-b2b9-b7bd216d0454",
   "metadata": {},
   "source": [
    "Проводим дополнительную очистку для колонки времени проверки"
   ]
  },
  {
   "cell_type": "code",
   "execution_count": 176,
   "id": "72c3b259-bc58-46b7-8a4d-95852c398603",
   "metadata": {},
   "outputs": [
    {
     "name": "stdout",
     "output_type": "stream",
     "text": [
      "Проверка очищенных данных:\n",
      "root\n",
      " |-- asin: string (nullable = true)\n",
      " |-- reviewerID: string (nullable = true)\n",
      " |-- reviewerName: string (nullable = true)\n",
      " |-- reviewText: string (nullable = true)\n",
      " |-- overall: float (nullable = true)\n",
      " |-- summary: string (nullable = true)\n",
      " |-- unixReviewTime: integer (nullable = true)\n",
      " |-- reviewTime: date (nullable = true)\n",
      "\n"
     ]
    }
   ],
   "source": [
    "df_clean = df\n",
    "\n",
    "df_clean = df_clean.withColumn(\n",
    "    \"reviewTime\", \n",
    "    when(col(\"reviewTime\").isNull(), lit(None)).otherwise(col(\"reviewTime\"))\n",
    ")\n",
    "\n",
    "print(\"Проверка очищенных данных:\")\n",
    "df_clean.printSchema()"
   ]
  },
  {
   "cell_type": "markdown",
   "id": "03e72633-0fe7-4168-8452-eaf67c247b57",
   "metadata": {},
   "source": [
    "Настройка пути в HDFS"
   ]
  },
  {
   "cell_type": "code",
   "execution_count": 177,
   "id": "604aacb2-c916-41c6-a733-f16c913444de",
   "metadata": {},
   "outputs": [
    {
     "name": "stdout",
     "output_type": "stream",
     "text": [
      "Сохраняем данные в: hdfs://hadoop-namenode:9820/data/mattiev_database/movies_lab1_parquet_table\n"
     ]
    }
   ],
   "source": [
    "database_name = \"mattiev_database\"\n",
    "table_name = \"movies_lab1_parquet_table\"\n",
    "\n",
    "output_path = f\"hdfs://hadoop-namenode:9820/data/{database_name}/{table_name}\"\n",
    "\n",
    "print(f\"Сохраняем данные в: {output_path}\")\n"
   ]
  },
  {
   "cell_type": "markdown",
   "id": "f87b6df2-0cf8-4733-8822-8c3450d51c6a",
   "metadata": {},
   "source": [
    "Сохраняем DataFrame в Parquet формате"
   ]
  },
  {
   "cell_type": "code",
   "execution_count": 178,
   "id": "c2a91f0b-e2ea-4d06-a129-27aef395ebe0",
   "metadata": {},
   "outputs": [
    {
     "name": "stdout",
     "output_type": "stream",
     "text": [
      "Данные успешно сохранены в Parquet формате в HDFS\n"
     ]
    }
   ],
   "source": [
    "df_clean.write \\\n",
    "  .mode(\"overwrite\") \\\n",
    "  .option(\"compression\", \"snappy\") \\\n",
    "  .parquet(output_path)\n",
    "\n",
    "print(\"Данные успешно сохранены в Parquet формате в HDFS\")"
   ]
  },
  {
   "cell_type": "markdown",
   "id": "8bc45ec4-379d-4f8b-8ce8-c26b03e11310",
   "metadata": {},
   "source": [
    "## Чтение из Parquet"
   ]
  },
  {
   "cell_type": "code",
   "execution_count": 179,
   "id": "b3f63b05-96ac-4004-9a85-4f9e2e11f1b0",
   "metadata": {},
   "outputs": [
    {
     "name": "stdout",
     "output_type": "stream",
     "text": [
      "Данные успешно загружены из Parquet\n",
      "Количество строк: 13223183\n",
      "Количество колонок: 8\n",
      "Схема данных:\n",
      "root\n",
      " |-- asin: string (nullable = true)\n",
      " |-- reviewerID: string (nullable = true)\n",
      " |-- reviewerName: string (nullable = true)\n",
      " |-- reviewText: string (nullable = true)\n",
      " |-- overall: float (nullable = true)\n",
      " |-- summary: string (nullable = true)\n",
      " |-- unixReviewTime: integer (nullable = true)\n",
      " |-- reviewTime: date (nullable = true)\n",
      "\n",
      "Первые 10 строк:\n",
      "+--------------------+--------------+--------------------+--------------------+-------+--------------------+--------------+----------+\n",
      "|                asin|    reviewerID|        reviewerName|          reviewText|overall|             summary|unixReviewTime|reviewTime|\n",
      "+--------------------+--------------+--------------------+--------------------+-------+--------------------+--------------+----------+\n",
      "| Not so good: the...|          NULL|                NULL| it's scope was c...|   NULL|                NULL|          NULL|      NULL|\n",
      "|             Alright|          NULL|                NULL|                NULL|   NULL|                NULL|          NULL|      NULL|\n",
      "|3 1/2 stars round...|          NULL|                NULL|         trashcanman|   NULL|                   4|          NULL|      NULL|\n",
      "|          B0029Z8KK6| AYJVVATZH32YP|                 pj1|it is very nice t...|    5.0|          Five Stars|    1523577600|      NULL|\n",
      "|          B0029Z8KK6|A2GHRRRM85HYX0|          Zach Satin|             Perfect|    5.0|          Five Stars|    1488240000|      NULL|\n",
      "|          B0029Z8KK6|A3M48MMAPF8G03|      David P. Labbe|Best TV cooking s...|    5.0|          Five Stars|    1476144000|2016-11-10|\n",
      "|          B0029Z8KK6|A12P6SLPFSOV9N|       mark hasstedt|Invaluable Inform...|    5.0|Great Recipes, Fu...|    1465948800|      NULL|\n",
      "|          B0029Z8KK6| AXV8KF153WCCF|    stephanie salemi|               great|    5.0|          Five Stars|    1436659200|2015-12-07|\n",
      "|          B0029Z8KK6|A3M3YY28VD5JKC|Patricia A. Stall...|I just love these...|    5.0|I just love these...|    1404691200|2014-07-07|\n",
      "|          B0029Z8KK6|A1DHQWTGOHLB6U|            ksbouver|This is my favori...|    4.0|    Love this series|    1401926400|2014-05-06|\n",
      "+--------------------+--------------+--------------------+--------------------+-------+--------------------+--------------+----------+\n",
      "only showing top 10 rows\n",
      "\n"
     ]
    }
   ],
   "source": [
    "df_parquet = spark.read.parquet(output_path)\n",
    "\n",
    "print(\"Данные успешно загружены из Parquet\")\n",
    "print(f\"Количество строк: {df_parquet.count()}\")\n",
    "print(f\"Количество колонок: {len(df_parquet.columns)}\")\n",
    "\n",
    "# Показать схему данных\n",
    "print(\"Схема данных:\")\n",
    "df_parquet.printSchema()\n",
    "\n",
    "# Показать первые несколько строк\n",
    "print(\"Первые 10 строк:\")\n",
    "df_parquet.show(10)"
   ]
  },
  {
   "cell_type": "markdown",
   "id": "4a77d16d-8109-47fc-9137-26bb3261764b",
   "metadata": {},
   "source": [
    "После успешной записи таблицы останавливаем сессию Apache Spark."
   ]
  },
  {
   "cell_type": "code",
   "execution_count": 180,
   "id": "0adce8f8-4a81-4a83-98c6-951099cc090a",
   "metadata": {},
   "outputs": [],
   "source": [
    "spark.stop()"
   ]
  }
 ],
 "metadata": {
  "kernelspec": {
   "display_name": "Python 3 (ipykernel)",
   "language": "python",
   "name": "python3"
  },
  "language_info": {
   "codemirror_mode": {
    "name": "ipython",
    "version": 3
   },
   "file_extension": ".py",
   "mimetype": "text/x-python",
   "name": "python",
   "nbconvert_exporter": "python",
   "pygments_lexer": "ipython3",
   "version": "3.11.6"
  }
 },
 "nbformat": 4,
 "nbformat_minor": 5
}
